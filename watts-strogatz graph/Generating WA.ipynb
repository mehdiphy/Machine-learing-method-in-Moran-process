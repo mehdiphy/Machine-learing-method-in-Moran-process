{
 "cells": [
  {
   "cell_type": "markdown",
   "id": "439deb78",
   "metadata": {},
   "source": [
    "## this file produce a csv file for training the model "
   ]
  },
  {
   "cell_type": "code",
   "execution_count": 3,
   "id": "b55d3556",
   "metadata": {},
   "outputs": [],
   "source": [
    "import numpy as np \n",
    "import pandas as pd\n",
    "import random\n",
    "import networkx as nx\n",
    "import matplotlib.pyplot as plt\n",
    "%matplotlib inline\n",
    "import warnings\n",
    "warnings.filterwarnings(\"ignore\")"
   ]
  },
  {
   "cell_type": "code",
   "execution_count": 4,
   "id": "ffc80732",
   "metadata": {},
   "outputs": [],
   "source": [
    "def stawa(G,p,r,z):\n",
    "    t=0\n",
    "    s=0\n",
    "    n=len(G)\n",
    "    A=nx.adjacency_matrix(G)\n",
    "    M={random.randint(0,n-1)}\n",
    "    D={j for j in range(0,n)}\n",
    "    R=D-M\n",
    "    while len(M)<z:\n",
    "        i=len(M)\n",
    "        if i==0:\n",
    "            M={random.randint(0,n-1)}\n",
    "            D={j for j in range(0,n)}\n",
    "            R=D-M          \n",
    "        k=random.random()\n",
    "        s+=1\n",
    "        if k<(i*r)/(n-i+i*r):\n",
    "            ch=random.sample(M,1)\n",
    "            NE=[n for n in G.neighbors(ch[0])]\n",
    "            chh=random.sample(NE,1)\n",
    "            if chh[0]  in R:\n",
    "                M.add(chh[0])\n",
    "                R.remove(chh[0])\n",
    "                t+=1\n",
    "\n",
    "        elif (i*r)/(n-i+i*r)<k<(i*(r+1))/(n-i+i*r):\n",
    "            chre=random.sample(R,1)\n",
    "            NEre=[n for n in G.neighbors(chre[0])]\n",
    "            chhre=random.sample(NEre,1)\n",
    "            if chhre[0]  in M:\n",
    "                R.add(chhre[0])\n",
    "                M.remove(chhre[0])\n",
    "                t+=1\n",
    "    MM=list(M)\n",
    "    RR=list(R)\n",
    "    T=[]\n",
    "    for q in range (0,len(MM)):\n",
    "        Y=list(G.neighbors(MM[q]))\n",
    "        u=[l for l in Y if l in RR]\n",
    "        T.append(len(u)/len(Y))   \n",
    "    \n",
    "    \n",
    "    return(np.mean(T)*(n-1)/(n-z))"
   ]
  },
  {
   "cell_type": "code",
   "execution_count": 5,
   "id": "1abcfbab",
   "metadata": {},
   "outputs": [],
   "source": [
    "pr=[.1,.3,.5,.7,.9]\n",
    "def lambwa(G,p,r,z,rep):\n",
    "    t=0\n",
    "    for x in range (0,rep):\n",
    "        t+=stawa(G,p,r,z)\n",
    "    T=t/rep\n",
    "    return(T)\n",
    "\n"
   ]
  },
  {
   "cell_type": "markdown",
   "id": "0900e3db",
   "metadata": {},
   "source": [
    "## By changing parameter in array 'pr' in above cell and 'n' in below cell you can change the  size of training set"
   ]
  },
  {
   "cell_type": "code",
   "execution_count": 6,
   "id": "e8e6fe35",
   "metadata": {},
   "outputs": [],
   "source": [
    "def DBRwa(n,rep):\n",
    "    A=[]\n",
    "    B=[]\n",
    "    R=[]\n",
    "\n",
    "    M=[]\n",
    "    SI=[]\n",
    "    E=[]\n",
    "    for m in range (n//10,n//2,n//5):\n",
    "        for r in range (1,10,2):\n",
    "            for j in range (10,n,n//10):\n",
    "                for x in range (0,len(pr)):\n",
    "                    G=nx.watts_strogatz_graph(n,m,pr[x])\n",
    "                    A.append(lambwa(G,pr[x],r,j,rep))\n",
    "                    B.append(j/n)\n",
    "                    R.append(r)\n",
    "\n",
    "                    M.append(m)\n",
    "                    E.append(pr[x])\n",
    "                    SI.append(n)\n",
    "                    \n",
    "\n",
    "    return(A,B,R,M,E,SI)  "
   ]
  },
  {
   "cell_type": "code",
   "execution_count": null,
   "id": "f019d84f",
   "metadata": {},
   "outputs": [],
   "source": [
    "F=DBRwa(100,10)\n",
    "TAR=F[0]\n",
    "rel=F[1]\n",
    "fit=F[2]\n",
    "em=F[3]\n",
    "pro=F[4]\n",
    "size=F[5]\n",
    "\n",
    "\n",
    "\n",
    "\n",
    "\n",
    "for n in range (150,1000,50):\n",
    "    W=DBRwa(n,10)\n",
    "    TAR+=W[0]\n",
    "    rel+=W[1]\n",
    "    fit+=W[2]\n",
    "    em+=W[3]\n",
    "    pro+=W[4]\n",
    "    size+=W[5]\n",
    "    \n",
    "    print(n)"
   ]
  },
  {
   "cell_type": "markdown",
   "id": "38554569",
   "metadata": {},
   "source": [
    "## The following csv file produce 6 columns. Columns 'rel','pro' ,'m/n' and 'fit' can use as features in the process of learning. Column target is target in the process of learning (lambda)"
   ]
  },
  {
   "cell_type": "code",
   "execution_count": 7,
   "id": "c2895deb",
   "metadata": {},
   "outputs": [],
   "source": [
    "df = pd.DataFrame({'rel': rel,'fit': fit,'em': em,'target': TAR,'pro':pro,'size':size})\n",
    "df['mn']=df['em']/df['size']\n",
    "df.to_csv('/home/hajihashemi/Desktop/WA.csv')"
   ]
  },
  {
   "cell_type": "code",
   "execution_count": null,
   "id": "b0492979",
   "metadata": {},
   "outputs": [],
   "source": []
  },
  {
   "cell_type": "code",
   "execution_count": null,
   "id": "a000d238",
   "metadata": {},
   "outputs": [],
   "source": []
  }
 ],
 "metadata": {
  "kernelspec": {
   "display_name": "Python 3 (ipykernel)",
   "language": "python",
   "name": "python3"
  },
  "language_info": {
   "codemirror_mode": {
    "name": "ipython",
    "version": 3
   },
   "file_extension": ".py",
   "mimetype": "text/x-python",
   "name": "python",
   "nbconvert_exporter": "python",
   "pygments_lexer": "ipython3",
   "version": "3.10.9"
  }
 },
 "nbformat": 4,
 "nbformat_minor": 5
}

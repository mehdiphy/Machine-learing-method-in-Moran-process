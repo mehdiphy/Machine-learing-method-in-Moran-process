{
 "cells": [
  {
   "cell_type": "markdown",
   "id": "df35d0f0",
   "metadata": {},
   "source": [
    "## this file produce a csv file for training the model "
   ]
  },
  {
   "cell_type": "code",
   "execution_count": 4,
   "id": "86789107",
   "metadata": {},
   "outputs": [],
   "source": [
    "import numpy as np \n",
    "import pandas as pd\n",
    "import random\n",
    "import networkx as nx\n",
    "import matplotlib.pyplot as plt\n",
    "%matplotlib inline\n",
    "import warnings\n",
    "warnings.filterwarnings(\"ignore\")"
   ]
  },
  {
   "cell_type": "code",
   "execution_count": 5,
   "id": "41c79c01",
   "metadata": {},
   "outputs": [],
   "source": [
    "def staerdo(G,r,z):\n",
    "    t=0\n",
    "    s=0\n",
    "    n=len(G)\n",
    "    A=nx.adjacency_matrix(G)\n",
    "    M={random.randint(0,n-1)}\n",
    "    D={j for j in range(0,n)}\n",
    "    R=D-M\n",
    "    while len(M)<z:\n",
    "        i=len(M)\n",
    "        if i==0:\n",
    "            M={random.randint(0,n-1)}\n",
    "            D={j for j in range(0,n)}\n",
    "            R=D-M          \n",
    "        k=random.random()\n",
    "        s+=1\n",
    "        if k<(i*r)/(n-i+i*r):\n",
    "            ch=random.sample(M,1)\n",
    "            NE=[n for n in G.neighbors(ch[0])]\n",
    "            chh=random.sample(NE,1)\n",
    "            if chh[0]  in R:\n",
    "                M.add(chh[0])\n",
    "                R.remove(chh[0])\n",
    "                t+=1\n",
    "\n",
    "        elif (i*r)/(n-i+i*r)<k<(i*(r+1))/(n-i+i*r):\n",
    "            chre=random.sample(R,1)\n",
    "            NEre=[n for n in G.neighbors(chre[0])]\n",
    "            chhre=random.sample(NEre,1)\n",
    "            if chhre[0]  in M:\n",
    "                R.add(chhre[0])\n",
    "                M.remove(chhre[0])\n",
    "                t+=1\n",
    "    MM=list(M)\n",
    "    RR=list(R)\n",
    "    T=[]\n",
    "    for q in range (0,len(MM)):\n",
    "        Y=list(G.neighbors(MM[q]))\n",
    "        u=[l for l in Y if l in RR]\n",
    "        T.append(len(u)/len(Y))   \n",
    "    \n",
    "    \n",
    "    return(np.mean(T)*(n-1)/(n-z))"
   ]
  },
  {
   "cell_type": "code",
   "execution_count": 6,
   "id": "875e65b6",
   "metadata": {},
   "outputs": [],
   "source": [
    "pr=[.2,.3,.5,.7,.9]\n",
    "def lamberdo(G,r,z,rep):\n",
    "    t=0\n",
    "    n=len(G)\n",
    "    for x in range (0,rep):\n",
    "        t+=staerdo(G,r,z)\n",
    "    T=t/rep\n",
    "    return(T)"
   ]
  },
  {
   "cell_type": "markdown",
   "id": "72989b73",
   "metadata": {},
   "source": [
    "## By changing parameter in array 'pr' in above cell and 'n' in below cell you can change the  size of training set"
   ]
  },
  {
   "cell_type": "code",
   "execution_count": 7,
   "id": "dec35bea",
   "metadata": {},
   "outputs": [],
   "source": [
    "def DBRerdo(n,rep):\n",
    "    A=[]\n",
    "    B=[]\n",
    "    R=[]\n",
    "    E=[]\n",
    "    SI=[]\n",
    "    for r in range (1,10,2):\n",
    "        for j in range (10,n,n//10):\n",
    "            for x in range (0,len(pr)):\n",
    "                G=nx.erdos_renyi_graph(n,pr[x])\n",
    "                A.append(lamberdo(G,r,j,rep))\n",
    "                B.append(j/n)\n",
    "                R.append(r)\n",
    "                E.append(pr[x])\n",
    "                SI.append(n)\n",
    "    return(A,B,R,E,SI)   "
   ]
  },
  {
   "cell_type": "code",
   "execution_count": 8,
   "id": "3d744eea",
   "metadata": {},
   "outputs": [],
   "source": [
    "L=DBRerdo(100,10)\n",
    "TAR=L[0]\n",
    "rel=L[1]\n",
    "fit=L[2]\n",
    "pro=L[3]\n",
    "size=L[4]\n",
    "\n",
    "\n",
    "\n"
   ]
  },
  {
   "cell_type": "code",
   "execution_count": null,
   "id": "d43eb385",
   "metadata": {},
   "outputs": [],
   "source": [
    "for m in range(11,20):\n",
    "    W=DBR3(m,m,m,10)\n",
    "    TAR+=W[0]\n",
    "    rel+=W[1]\n",
    "    fit+=W[2]\n",
    "    size+=W[3]\n",
    "    print(m)"
   ]
  },
  {
   "cell_type": "markdown",
   "id": "e7580a84",
   "metadata": {},
   "source": [
    "## The following csv file produce 5 columns. Columns 'rel','pro' and 'fit' can use as features in the process of learning. Column target is target in the process of learning (lambda)"
   ]
  },
  {
   "cell_type": "code",
   "execution_count": 8,
   "id": "f3b4a31f",
   "metadata": {},
   "outputs": [],
   "source": [
    "df = pd.DataFrame({'rel': rel,'fit': fit,'pro':pro,'size':size,'target': TAR})\n",
    "df.to_csv('/home/hajihashemi/Desktop/ER.csv')"
   ]
  },
  {
   "cell_type": "code",
   "execution_count": null,
   "id": "d7d94264",
   "metadata": {},
   "outputs": [],
   "source": []
  }
 ],
 "metadata": {
  "kernelspec": {
   "display_name": "Python 3 (ipykernel)",
   "language": "python",
   "name": "python3"
  },
  "language_info": {
   "codemirror_mode": {
    "name": "ipython",
    "version": 3
   },
   "file_extension": ".py",
   "mimetype": "text/x-python",
   "name": "python",
   "nbconvert_exporter": "python",
   "pygments_lexer": "ipython3",
   "version": "3.10.9"
  }
 },
 "nbformat": 4,
 "nbformat_minor": 5
}

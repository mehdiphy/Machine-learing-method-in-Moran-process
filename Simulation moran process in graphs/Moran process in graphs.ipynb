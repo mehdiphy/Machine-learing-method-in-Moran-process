{
 "cells": [
  {
   "cell_type": "code",
   "execution_count": 1,
   "metadata": {},
   "outputs": [],
   "source": [
    "import numpy as np \n",
    "import random\n",
    "import networkx as nx\n",
    "import warnings\n",
    "warnings.filterwarnings(\"ignore\")"
   ]
  },
  {
   "cell_type": "markdown",
   "metadata": {},
   "source": [
    "## Function MFT return the number of steps that a single mutant need for occuping z nodes of graph. The Moran process simulate with fitness 'r' through graph 'G'. The function MF run the function MFT for 'rep'  time and average the results."
   ]
  },
  {
   "cell_type": "code",
   "execution_count": 8,
   "metadata": {},
   "outputs": [],
   "source": [
    "# G=graph that Moran process happen in it\n",
    "# r= fitness of mutants\n",
    "# z the number of mutants in the final of process\n",
    "\n",
    "def MFT(G,r,z):\n",
    "    t=0\n",
    "    s=0\n",
    "    A=nx.adjacency_matrix(G)\n",
    "    n=len(G)\n",
    "    M={random.randint(0,n-1)}\n",
    "    D={j for j in range(0,n)}\n",
    "    R=D-M\n",
    "    while len(M)<z:\n",
    "        i=len(M)\n",
    "        if i==0:\n",
    "            M={random.randint(0,n-1)}\n",
    "            D={j for j in range(0,n)}\n",
    "            R=D-M          \n",
    "        k=random.random()\n",
    "        s+=1\n",
    "        if k<(i*r)/(n-i+i*r):\n",
    "            ch=random.sample(M,1)\n",
    "            NE=[n for n in G.neighbors(ch[0])]\n",
    "            chh=random.sample(NE,1)\n",
    "            if chh[0]  in R:\n",
    "                M.add(chh[0])\n",
    "                R.remove(chh[0])\n",
    "                t+=1\n",
    "\n",
    "        elif (i*r)/(n-i+i*r)<k<(i*(r+1))/(n-i+i*r):\n",
    "            chre=random.sample(R,1)\n",
    "            NEre=[n for n in G.neighbors(chre[0])]\n",
    "            chhre=random.sample(NEre,1)\n",
    "            if chhre[0]  in M:\n",
    "                R.add(chhre[0])\n",
    "                M.remove(chhre[0])\n",
    "                t+=1\n",
    "            \n",
    "    return(s)"
   ]
  },
  {
   "cell_type": "code",
   "execution_count": 9,
   "metadata": {},
   "outputs": [],
   "source": [
    "# number of simulation of process for averaging\n",
    "def MF(G,z,r,rep):\n",
    "    t=0\n",
    "    for k in range(rep):\n",
    "        t+=MFT(G,r,z)\n",
    "    return(t/rep)"
   ]
  },
  {
   "cell_type": "code",
   "execution_count": 10,
   "metadata": {},
   "outputs": [
    {
     "data": {
      "text/plain": [
       "578.63"
      ]
     },
     "execution_count": 10,
     "metadata": {},
     "output_type": "execute_result"
    }
   ],
   "source": [
    "G=nx.complete_graph(110)\n",
    "MF(G,100,3,100)"
   ]
  },
  {
   "cell_type": "code",
   "execution_count": null,
   "metadata": {},
   "outputs": [],
   "source": []
  }
 ],
 "metadata": {
  "kernelspec": {
   "display_name": "Python 3 (ipykernel)",
   "language": "python",
   "name": "python3"
  },
  "language_info": {
   "codemirror_mode": {
    "name": "ipython",
    "version": 3
   },
   "file_extension": ".py",
   "mimetype": "text/x-python",
   "name": "python",
   "nbconvert_exporter": "python",
   "pygments_lexer": "ipython3",
   "version": "3.10.9"
  }
 },
 "nbformat": 4,
 "nbformat_minor": 4
}

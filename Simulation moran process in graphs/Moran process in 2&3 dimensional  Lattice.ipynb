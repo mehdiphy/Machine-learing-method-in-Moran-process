{
 "cells": [
  {
   "cell_type": "code",
   "execution_count": 11,
   "id": "538848df",
   "metadata": {},
   "outputs": [],
   "source": [
    "import numpy as np \n",
    "import random\n",
    "import networkx as nx\n",
    "import warnings\n",
    "warnings.filterwarnings(\"ignore\")\n",
    "import pandas as pd\n",
    "import numpy as np\n",
    "def A2D(n):\n",
    "    A=np.zeros((n**2,n**2))\n",
    "    for i in range(0,n**2-1):\n",
    "        A[i,i+1]=1\n",
    "    for i in range(0,n**2-n):\n",
    "        A[i,n+i]=1    \n",
    "    for a in range(1,n):\n",
    "        A[a*n-1,a*n]=0\n",
    "        A[a*n,a*n-1]=0\n",
    "\n",
    "    for i in range (0,n):\n",
    "        A[i,n**2-n+i]=1\n",
    "    for z in range (0,n):\n",
    "        A[z*n,(z+1)*n-1]=1\n",
    "\n",
    "    for i in range (0,n**2):\n",
    "        for j in range (i+1,n**2):\n",
    "            A[j,i]=A[i,j] \n",
    "    return(A)\n"
   ]
  },
  {
   "cell_type": "markdown",
   "id": "911c7fe7",
   "metadata": {},
   "source": [
    "## Function 'nNumber2D' simulate Moran process in periodic lattice with size m**2. The function 'me2D' run  'nNumber2D' for 'rep' times and average fron results."
   ]
  },
  {
   "cell_type": "code",
   "execution_count": 12,
   "id": "8b9a3255",
   "metadata": {},
   "outputs": [],
   "source": [
    "def nNumber2D(m,r,z):\n",
    "    t=0\n",
    "    s=0\n",
    "    A= A2D(m)\n",
    "    G=nx.from_numpy_array(A2D(m))\n",
    "    n=m**2 \n",
    "    M={random.randint(0,n-1)}\n",
    "    D={j for j in range(0,n)}\n",
    "    R=D-M\n",
    "    while len(M)<z:\n",
    "        i=len(M)\n",
    "        if i==0:\n",
    "            M={random.randint(0,n-1)}\n",
    "            D={j for j in range(0,n)}\n",
    "            R=D-M          \n",
    "        k=random.random()\n",
    "        s+=1\n",
    "        if k<(i*r)/(n-i+i*r):\n",
    "            ch=random.sample(M,1)\n",
    "            NE=[n for n in G.neighbors(ch[0])]\n",
    "            chh=random.sample(NE,1)\n",
    "            if chh[0]  in R:\n",
    "                M.add(chh[0])\n",
    "                R.remove(chh[0])\n",
    "                t+=1\n",
    "\n",
    "        elif (i*r)/(n-i+i*r)<k<(i*(r+1))/(n-i+i*r):\n",
    "            chre=random.sample(R,1)\n",
    "            NEre=[n for n in G.neighbors(chre[0])]\n",
    "            chhre=random.sample(NEre,1)\n",
    "            if chhre[0]  in M:\n",
    "                R.add(chhre[0])\n",
    "                M.remove(chhre[0])\n",
    "                t+=1\n",
    "            \n",
    "    return(t,s)"
   ]
  },
  {
   "cell_type": "code",
   "execution_count": 13,
   "id": "a96a91b7",
   "metadata": {},
   "outputs": [],
   "source": [
    "# m in deminsion of lattice\n",
    "def me2D(m,z,r,rep):\n",
    "    t=0\n",
    "    for k in range(rep):\n",
    "        t+=nNumber2D(m,r,z)[1]\n",
    "    return(t/rep)"
   ]
  },
  {
   "cell_type": "code",
   "execution_count": 14,
   "id": "940e659c",
   "metadata": {},
   "outputs": [
    {
     "name": "stdout",
     "output_type": "stream",
     "text": [
      "100\n",
      "400\n",
      "700\n",
      "1000\n",
      "1300\n",
      "1600\n",
      "1900\n",
      "2200\n",
      "2500\n",
      "2800\n",
      "3100\n",
      "3400\n"
     ]
    }
   ],
   "source": [
    "W3=[]\n",
    "W3X=[]\n",
    "for j in range (100,3500,300):\n",
    "\n",
    "    W3.append(me2D(60,j,3,20))\n",
    "    W3X.append(j)\n",
    "    np.save('/home/hajihashemi/Desktop/MORAND/2DSIM3000.npy',W3)\n",
    "    np.save('/home/hajihashemi/Desktop/MORAND/2DSIM3000X.npy',W3X)\n",
    "    "
   ]
  },
  {
   "cell_type": "code",
   "execution_count": 15,
   "id": "84145717",
   "metadata": {},
   "outputs": [
    {
     "name": "stdout",
     "output_type": "stream",
     "text": [
      "400\n",
      "850\n",
      "1300\n",
      "1750\n",
      "2200\n",
      "2650\n",
      "3100\n",
      "3550\n",
      "4000\n",
      "4450\n"
     ]
    }
   ],
   "source": [
    "W5=[]\n",
    "W5X=[]\n",
    "for j in range (400,4800,450):\n",
    "    print(j)\n",
    "    W5.append(me2D(70,j,3,20))\n",
    "    W5X.append(j)\n",
    "    np.save('/home/hajihashemi/Desktop/MORAND/2DSIM5000.npy',W5)\n",
    "    np.save('/home/hajihashemi/Desktop/MORAND/2DSIM5000X.npy',W5X)"
   ]
  },
  {
   "cell_type": "code",
   "execution_count": 18,
   "id": "ffc466fe",
   "metadata": {},
   "outputs": [
    {
     "name": "stdout",
     "output_type": "stream",
     "text": [
      "700\n",
      "1700\n",
      "2700\n",
      "3700\n",
      "4700\n",
      "5700\n",
      "6700\n",
      "7700\n",
      "8700\n",
      "9700\n"
     ]
    }
   ],
   "source": [
    "W10=[]\n",
    "W10X=[]\n",
    "for j in range (700,9900,1000):\n",
    "    print(j)\n",
    "    W10.append(me2D(100,j,3,20))\n",
    "    W10X.append(j)\n",
    "    np.save('/home/hajihashemi/Desktop/MORAND/2DSIM10000.npy',W10)\n",
    "    np.save('/home/hajihashemi/Desktop/MORAND/2DSIM10000X.npy',W10X)"
   ]
  },
  {
   "cell_type": "code",
   "execution_count": null,
   "id": "aa053fae",
   "metadata": {},
   "outputs": [],
   "source": []
  },
  {
   "cell_type": "code",
   "execution_count": null,
   "id": "2f7b7dba",
   "metadata": {},
   "outputs": [],
   "source": []
  },
  {
   "cell_type": "code",
   "execution_count": 19,
   "id": "1afc77af",
   "metadata": {},
   "outputs": [],
   "source": [
    "def A3D(n,m,l):\n",
    "    G=nx.grid_graph(dim=(n,m,l),periodic=True)\n",
    "    A=nx.adjacency_matrix(G)\n",
    "    B=np.zeros((n*m*l,n*m*l))\n",
    "    df=pd.DataFrame(A.toarray())\n",
    "    for x in range (0,len(df)):\n",
    "        for y in range (0,len(df)):\n",
    "            if df.iloc[x][y]==1:\n",
    "                B[x][y]=1\n",
    "    return(B)"
   ]
  },
  {
   "cell_type": "markdown",
   "id": "436e0e32",
   "metadata": {},
   "source": [
    "## Function 'nNumber3D' simulate Moran process in periodic lattice with size x*y*zz. The function 'me3D' run  'nNumber2D' for 'rep' times and average fron results."
   ]
  },
  {
   "cell_type": "code",
   "execution_count": 20,
   "id": "73941252",
   "metadata": {},
   "outputs": [],
   "source": [
    "def nNumber3D(x,y,zz,r,z):\n",
    "    t=0\n",
    "    s=0\n",
    "    A= A3D(x,y,zz)\n",
    "    G=nx.from_numpy_array(A)\n",
    "    n=x*y*zz\n",
    "    M={random.randint(0,n-1)}\n",
    "    D={j for j in range(0,n)}\n",
    "    R=D-M\n",
    "    while len(M)<z:\n",
    "        i=len(M)\n",
    "        if i==0:\n",
    "            M={random.randint(0,n-1)}\n",
    "            D={j for j in range(0,n)}\n",
    "            R=D-M          \n",
    "        k=random.random()\n",
    "        s+=1\n",
    "        if k<(i*r)/(n-i+i*r):\n",
    "            ch=random.sample(M,1)\n",
    "            NE=[n for n in G.neighbors(ch[0])]\n",
    "            chh=random.sample(NE,1)\n",
    "            if chh[0]  in R:\n",
    "                M.add(chh[0])\n",
    "                R.remove(chh[0])\n",
    "                t+=1\n",
    "\n",
    "        elif (i*r)/(n-i+i*r)<k<(i*(r+1))/(n-i+i*r):\n",
    "            chre=random.sample(R,1)\n",
    "            NEre=[n for n in G.neighbors(chre[0])]\n",
    "            chhre=random.sample(NEre,1)\n",
    "            if chhre[0]  in M:\n",
    "                R.add(chhre[0])\n",
    "                M.remove(chhre[0])\n",
    "                t+=1\n",
    "            \n",
    "    return(t,s)"
   ]
  },
  {
   "cell_type": "code",
   "execution_count": 21,
   "id": "db736eff",
   "metadata": {},
   "outputs": [],
   "source": [
    "# m in deminsion of lattice\n",
    "def me3D(x,y,zz,z,r,rep):\n",
    "    t=0\n",
    "    for k in range(rep):\n",
    "        t+=nNumber3D(x,y,zz,r,z)[1]\n",
    "    return(t/rep)"
   ]
  },
  {
   "cell_type": "code",
   "execution_count": 34,
   "id": "f6532962",
   "metadata": {},
   "outputs": [
    {
     "name": "stdout",
     "output_type": "stream",
     "text": [
      "2002\n",
      "2402\n",
      "2802\n"
     ]
    }
   ],
   "source": [
    "W3=[]\n",
    "W3X=[]\n",
    "for j in range (100,3200,400):\n",
    "    W3.append(me3D(15,15,15,j,3,10))\n",
    "    W3X.append(j)\n",
    "    print(j)\n",
    "    np.save('/home/hajihashemi/Desktop/MORAND/3DSIM3000.npy',W3)\n",
    "    np.save('/home/hajihashemi/Desktop/MORAND/3DSIM3000X.npy',W3X)"
   ]
  },
  {
   "cell_type": "code",
   "execution_count": 35,
   "id": "4a4741b8",
   "metadata": {},
   "outputs": [
    {
     "name": "stdout",
     "output_type": "stream",
     "text": [
      "400\n",
      "1200\n",
      "2000\n",
      "2800\n",
      "3600\n",
      "4400\n"
     ]
    }
   ],
   "source": [
    "W5=[]\n",
    "W5X=[]\n",
    "for j in range (400,4800,800):\n",
    "    print(j)\n",
    "    W5.append(me3D(17,17,17,j,3,10))\n",
    "    W5X.append(j)\n",
    "    np.save('/home/hajihashemi/Desktop/MORAND/3DSIM5000.npy',W5)\n",
    "    np.save('/home/hajihashemi/Desktop/MORAND/3DSIM5000X.npy',W5X)"
   ]
  },
  {
   "cell_type": "code",
   "execution_count": null,
   "id": "f42d38e3",
   "metadata": {},
   "outputs": [],
   "source": [
    "W10=[]\n",
    "W10X=[]\n",
    "for j in range (700,9900,1500):\n",
    "    print(j)\n",
    "    W10.append(me3D(22,22,22,j,3,10))\n",
    "    W10X.append(j)\n",
    "    np.save('/home/hajihashemi/Desktop/MORAND/3DSIM10000.npy',W10)\n",
    "    np.save('/home/hajihashemi/Desktop/MORAND/3DSIM10000X.npy',W10X)"
   ]
  },
  {
   "cell_type": "code",
   "execution_count": null,
   "id": "a5580849",
   "metadata": {},
   "outputs": [],
   "source": []
  }
 ],
 "metadata": {
  "kernelspec": {
   "display_name": "Python 3 (ipykernel)",
   "language": "python",
   "name": "python3"
  },
  "language_info": {
   "codemirror_mode": {
    "name": "ipython",
    "version": 3
   },
   "file_extension": ".py",
   "mimetype": "text/x-python",
   "name": "python",
   "nbconvert_exporter": "python",
   "pygments_lexer": "ipython3",
   "version": "3.10.9"
  }
 },
 "nbformat": 4,
 "nbformat_minor": 5
}

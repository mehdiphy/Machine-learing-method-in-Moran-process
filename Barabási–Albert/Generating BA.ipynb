{
 "cells": [
  {
   "cell_type": "markdown",
   "id": "eb33e180",
   "metadata": {},
   "source": [
    "## this file produce a csv file for training the model "
   ]
  },
  {
   "cell_type": "code",
   "execution_count": 3,
   "id": "06a09c3d",
   "metadata": {},
   "outputs": [],
   "source": [
    "import numpy as np \n",
    "import pandas as pd\n",
    "import random\n",
    "import networkx as nx\n",
    "import matplotlib.pyplot as plt\n",
    "%matplotlib inline\n",
    "import warnings\n",
    "warnings.filterwarnings(\"ignore\")"
   ]
  },
  {
   "cell_type": "code",
   "execution_count": 4,
   "id": "b6d0a71a",
   "metadata": {},
   "outputs": [],
   "source": [
    "def state(G,r,z):\n",
    "    t=0\n",
    "    s=0\n",
    "    n=len(G)\n",
    "    A=nx.adjacency_matrix(G)\n",
    "    M={random.randint(0,n-1)}\n",
    "    D={j for j in range(0,n)}\n",
    "    R=D-M\n",
    "    while len(M)<z:\n",
    "        i=len(M)\n",
    "        if i==0:\n",
    "            M={random.randint(0,n-1)}\n",
    "            D={j for j in range(0,n)}\n",
    "            R=D-M          \n",
    "        k=random.random()\n",
    "        s+=1\n",
    "        if k<(i*r)/(n-i+i*r):\n",
    "            ch=random.sample(M,1)\n",
    "            NE=[n for n in G.neighbors(ch[0])]\n",
    "            chh=random.sample(NE,1)\n",
    "            if chh[0]  in R:\n",
    "                M.add(chh[0])\n",
    "                R.remove(chh[0])\n",
    "                t+=1\n",
    "\n",
    "        elif (i*r)/(n-i+i*r)<k<(i*(r+1))/(n-i+i*r):\n",
    "            chre=random.sample(R,1)\n",
    "            NEre=[n for n in G.neighbors(chre[0])]\n",
    "            chhre=random.sample(NEre,1)\n",
    "            if chhre[0]  in M:\n",
    "                R.add(chhre[0])\n",
    "                M.remove(chhre[0])\n",
    "                t+=1\n",
    "    MM=list(M)\n",
    "    RR=list(R)\n",
    "    T=[]\n",
    "    for q in range (0,len(MM)):\n",
    "        Y=list(G.neighbors(MM[q]))\n",
    "        u=[l for l in Y if l in RR]\n",
    "        T.append(len(u)/len(Y))   \n",
    "    \n",
    "    \n",
    "    return(np.mean(T)*(n-1)/(n-z))"
   ]
  },
  {
   "cell_type": "code",
   "execution_count": 5,
   "id": "423e377a",
   "metadata": {},
   "outputs": [],
   "source": [
    "def lamb(G,r,z,rep):\n",
    "    t=0\n",
    "    n=len(G)\n",
    "    for x in range (0,rep):\n",
    "        t+=state(G,r,z)\n",
    "    T=t/rep\n",
    "    return(T)"
   ]
  },
  {
   "cell_type": "markdown",
   "id": "db3a6ea5",
   "metadata": {},
   "source": [
    "## By changing parameter  'n' in below cell you can change the  size of training set"
   ]
  },
  {
   "cell_type": "code",
   "execution_count": 7,
   "id": "04991d65",
   "metadata": {},
   "outputs": [],
   "source": [
    "def BA(n,rep):\n",
    "    A=[]\n",
    "    B=[]\n",
    "    R=[]\n",
    "    N=[]\n",
    "    M=[]\n",
    "    for z in range (n//10,n//2,n//20):\n",
    "        G=nx.barabasi_albert_graph(n,z)\n",
    "        for r in range (1,10,2):\n",
    "            for j in range (10,n,n//10):\n",
    "                A.append(lamb(G,r,j,rep))\n",
    "                B.append(j/n)\n",
    "                R.append(r)\n",
    "                M.append(z)\n",
    "                N.append(n)\n",
    "    return(A,B,R,N,M)  "
   ]
  },
  {
   "cell_type": "code",
   "execution_count": 8,
   "id": "f321daa9",
   "metadata": {},
   "outputs": [],
   "source": [
    "U=BA(40,5)\n",
    "TAR=U[0]\n",
    "rel=U[1]\n",
    "fit=U[2]\n",
    "size=U[3]\n",
    "em=U[4]"
   ]
  },
  {
   "cell_type": "code",
   "execution_count": null,
   "id": "39cd5606",
   "metadata": {},
   "outputs": [
    {
     "name": "stdout",
     "output_type": "stream",
     "text": [
      "1440\n"
     ]
    }
   ],
   "source": [
    "for n in range(1440,2000,50):\n",
    "    H=BA(n,5)\n",
    "    TAR+=H[0]\n",
    "    rel+=H[1]\n",
    "    fit+=H[2]\n",
    "    size+=H[3]\n",
    "    em+=H[4]\n",
    "    print(n)"
   ]
  },
  {
   "cell_type": "markdown",
   "id": "65b4162e",
   "metadata": {},
   "source": [
    "## The following csv file produce 5 columns. Columns 'rel'and 'fit' can use as features in the process of learning. Column target is target in the process of learning (lambda)"
   ]
  },
  {
   "cell_type": "code",
   "execution_count": 62,
   "id": "1da1a1b5",
   "metadata": {},
   "outputs": [],
   "source": [
    "df = pd.DataFrame({'rel': rel,'fit': fit,'size': size,'em': em,'target': TAR})\n",
    "df.to_csv('/home/hajihashemi/Desktop/BA.csv')\n"
   ]
  },
  {
   "cell_type": "code",
   "execution_count": null,
   "id": "b7ba1064",
   "metadata": {},
   "outputs": [],
   "source": []
  },
  {
   "cell_type": "code",
   "execution_count": null,
   "id": "865cff3c",
   "metadata": {},
   "outputs": [],
   "source": []
  }
 ],
 "metadata": {
  "kernelspec": {
   "display_name": "Python 3 (ipykernel)",
   "language": "python",
   "name": "python3"
  },
  "language_info": {
   "codemirror_mode": {
    "name": "ipython",
    "version": 3
   },
   "file_extension": ".py",
   "mimetype": "text/x-python",
   "name": "python",
   "nbconvert_exporter": "python",
   "pygments_lexer": "ipython3",
   "version": "3.10.9"
  }
 },
 "nbformat": 4,
 "nbformat_minor": 5
}

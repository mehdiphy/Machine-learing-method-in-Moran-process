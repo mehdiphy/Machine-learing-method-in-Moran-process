{
 "cells": [
  {
   "cell_type": "markdown",
   "id": "55ad6427",
   "metadata": {},
   "source": [
    "## this file produce a csv file for training the model "
   ]
  },
  {
   "cell_type": "code",
   "execution_count": null,
   "id": "0b47085b",
   "metadata": {},
   "outputs": [],
   "source": [
    "import numpy as np \n",
    "import pandas as pd\n",
    "import random\n",
    "import networkx as nx\n",
    "import matplotlib.pyplot as plt\n",
    "%matplotlib inline\n",
    "import warnings\n",
    "warnings.filterwarnings(\"ignore\")"
   ]
  },
  {
   "cell_type": "code",
   "execution_count": 2,
   "id": "e6258071",
   "metadata": {},
   "outputs": [],
   "source": [
    "def stagrid(G,r,z):\n",
    "    t=0\n",
    "    s=0\n",
    "    n=len(G)\n",
    "    AA=list(G.nodes)\n",
    "    B=[]\n",
    "    for k in range (0,n):\n",
    "        B.append(k)\n",
    "        \n",
    "    MMap={AA[0]:B[0]}\n",
    "    for l in range (1,len(AA)):\n",
    "        MMap[AA[l]]=B[l]\n",
    "    G = nx.relabel_nodes(G, MMap)\n",
    "    A=nx.adjacency_matrix(G)\n",
    "    M={random.randint(0,n-1)}\n",
    "    D={j for j in range(0,n)}\n",
    "    R=D-M\n",
    "    while len(M)<z:\n",
    "        i=len(M)\n",
    "        if i==0:\n",
    "            M={random.randint(0,n-1)}\n",
    "            D={j for j in range(0,n)}\n",
    "            R=D-M          \n",
    "        k=random.random()\n",
    "        s+=1\n",
    "        if k<(i*r)/(n-i+i*r):\n",
    "            ch=random.sample(M,1)\n",
    "            NE=[n for n in G.neighbors(ch[0])]\n",
    "            chh=random.sample(NE,1)\n",
    "            if chh[0]  in R:\n",
    "                M.add(chh[0])\n",
    "                R.remove(chh[0])\n",
    "                t+=1\n",
    "\n",
    "        elif (i*r)/(n-i+i*r)<k<(i*(r+1))/(n-i+i*r):\n",
    "            chre=random.sample(R,1)\n",
    "            NEre=[n for n in G.neighbors(chre[0])]\n",
    "            chhre=random.sample(NEre,1)\n",
    "            if chhre[0]  in M:\n",
    "                R.add(chhre[0])\n",
    "                M.remove(chhre[0])\n",
    "                t+=1\n",
    "    MM=list(M)\n",
    "    RR=list(R)\n",
    "    T=[]\n",
    "    for q in range (0,len(MM)):\n",
    "        Y=list(G.neighbors(MM[q]))\n",
    "        u=[l for l in Y if l in RR]\n",
    "        T.append(len(u)/len(Y))\n",
    "    \n",
    "    \n",
    "    return(np.mean(T))"
   ]
  },
  {
   "cell_type": "code",
   "execution_count": 5,
   "id": "2777f7f0",
   "metadata": {},
   "outputs": [],
   "source": [
    "def lamb3(G,r,z,rep):\n",
    "    t=0\n",
    "    n=len(G)\n",
    "    for x in range (0,rep):\n",
    "        t+=stagrid(G,r,z)\n",
    "    T=t/rep\n",
    "    return(T)\n",
    "\n",
    "\n",
    "\n",
    "def DBR3(d1,d2,d3,rep):\n",
    "    G=G=nx.grid_graph(dim=(d1, d2,d3),periodic=True)\n",
    "    n=len(G)\n",
    "    A=[]\n",
    "    B=[]\n",
    "    R=[]\n",
    "    N=[]\n",
    "\n",
    "    for r in range (1,10,2):\n",
    "        for j in range (10,n,n//10):\n",
    "            A.append(lamb3(G,r,j,rep))\n",
    "            B.append(j/n)\n",
    "            R.append(r)     \n",
    "            N.append(n)\n",
    "    return(A,B,R,N)   "
   ]
  },
  {
   "cell_type": "markdown",
   "id": "cde61ced",
   "metadata": {},
   "source": [
    "## By changing parameter   in below cell you can change the  size of training set"
   ]
  },
  {
   "cell_type": "code",
   "execution_count": 6,
   "id": "8331b23d",
   "metadata": {},
   "outputs": [],
   "source": [
    "Y=DBR3(10,10,10,10)\n",
    "TAR=Y[0]\n",
    "rel=Y[1]\n",
    "fit=Y[2]\n",
    "size=Y[3]"
   ]
  },
  {
   "cell_type": "code",
   "execution_count": null,
   "id": "2cd78108",
   "metadata": {},
   "outputs": [],
   "source": [
    "for m in range(11,20):\n",
    "    W=DBR3(m,m,m,10)\n",
    "    TAR+=W[0]\n",
    "    rel+=W[1]\n",
    "    fit+=W[2]\n",
    "    size+=W[3]\n",
    "    print(m)"
   ]
  },
  {
   "cell_type": "markdown",
   "id": "db563693",
   "metadata": {},
   "source": [
    "## the following csv file produce 4 columns. columns \"rel\" and \"fit' can use as features in the process of learning. column target is target in the process of learning (lambda)"
   ]
  },
  {
   "cell_type": "code",
   "execution_count": 7,
   "id": "5cd08689",
   "metadata": {},
   "outputs": [],
   "source": [
    "df = pd.DataFrame({'rel': rel,'fit': fit,'target': TAR,'size':size})\n",
    "df.to_csv('/home/hajihashemi/Desktop/3D.csv')"
   ]
  },
  {
   "cell_type": "code",
   "execution_count": null,
   "id": "f1de7a40",
   "metadata": {},
   "outputs": [],
   "source": []
  },
  {
   "cell_type": "code",
   "execution_count": null,
   "id": "3862b764",
   "metadata": {},
   "outputs": [],
   "source": []
  }
 ],
 "metadata": {
  "kernelspec": {
   "display_name": "Python 3 (ipykernel)",
   "language": "python",
   "name": "python3"
  },
  "language_info": {
   "codemirror_mode": {
    "name": "ipython",
    "version": 3
   },
   "file_extension": ".py",
   "mimetype": "text/x-python",
   "name": "python",
   "nbconvert_exporter": "python",
   "pygments_lexer": "ipython3",
   "version": "3.10.9"
  }
 },
 "nbformat": 4,
 "nbformat_minor": 5
}
